{
 "cells": [
  {
   "cell_type": "markdown",
   "metadata": {},
   "source": [
    "# Cooperative Coevolution of Predator Robots based on BSO"
   ]
  },
  {
   "cell_type": "code",
   "execution_count": null,
   "metadata": {},
   "outputs": [],
   "source": [
    "import os\n",
    "import time\n",
    "import numpy as np\n",
    "import matplotlib.pyplot as plt\n",
    "from optim.BSO.bso import bso\n",
    "from prey.prey import smartLinear\n",
    "from visual.visual import Plot"
   ]
  },
  {
   "cell_type": "markdown",
   "metadata": {},
   "source": [
    "## Define Testing Grid"
   ]
  },
  {
   "cell_type": "code",
   "execution_count": null,
   "metadata": {},
   "outputs": [],
   "source": [
    "grid = 30\n",
    "Ns = 8\n",
    "Np = 10"
   ]
  },
  {
   "cell_type": "markdown",
   "metadata": {},
   "source": [
    "## BSO Iteration"
   ]
  },
  {
   "cell_type": "code",
   "execution_count": null,
   "metadata": {},
   "outputs": [],
   "source": [
    "T = 100\n",
    "p_robots = np.random.randint(0, grid, (Ns, Np, 2))\n",
    "prey = np.random.randint(0, grid, 2)\n",
    "plotter = Plot(grid)\n",
    "for t in range(T):\n",
    "    prey = smartLinear(p_robots[:, 0], prey, grid)\n",
    "    if prey is None:\n",
    "        break\n",
    "    bso(p_robots, prey, grid)\n",
    "    plotter.update(p_robots, prey)\n",
    "if prey is None:\n",
    "    print(f'BSO caputured with {plotter.cnt} steps')\n",
    "else:\n",
    "    print(f'Failed to capture within {plotter.cnt} steps')\n",
    "plotter.save(file='example.gif')"
   ]
  },
  {
   "cell_type": "markdown",
   "metadata": {},
   "source": [
    "## Batch Test"
   ]
  },
  {
   "cell_type": "code",
   "execution_count": null,
   "metadata": {},
   "outputs": [],
   "source": [
    "T = 400\n",
    "batch_size = 10\n",
    "folder = time.strftime(\"%Y-%m-%d_%H-%M-%S\", time.localtime(time.time()))\n",
    "os.makedirs(os.path.join('output', folder), exist_ok=True)\n",
    "with open('output\\\\'+folder+'\\\\record.txt', 'w', encoding='utf-8') as file:\n",
    "    file.write(f'Predators={Ns}, Grid={grid}*{grid}')\n",
    "    for i in range(batch_size):\n",
    "        p_robots = np.random.randint(0, grid, (Ns, Np, 2))\n",
    "        prey = np.random.randint(0, grid, 2)\n",
    "        plotter = Plot(grid)\n",
    "        for t in range(T):\n",
    "            prey = smartLinear(p_robots[:, 0], prey, grid)\n",
    "            if prey is None:\n",
    "                break\n",
    "            bso(p_robots, prey, grid)\n",
    "            plotter.update(p_robots, prey)\n",
    "        if prey is None:\n",
    "            file.write(f'BSO Moves={plotter.cnt}\\n')\n",
    "        else:\n",
    "            file.write(f'Failed\\n')\n",
    "        plotter.save(file=os.path.join(folder, f'test_{i}.gif'))"
   ]
  },
  {
   "cell_type": "markdown",
   "metadata": {},
   "source": [
    "## Analysis"
   ]
  },
  {
   "cell_type": "code",
   "execution_count": null,
   "metadata": {},
   "outputs": [],
   "source": [
    "r = []\n",
    "success = 0\n",
    "total = 0\n",
    "with open('output\\\\'+folder+'\\\\record.txt', 'r') as file:\n",
    "    lines = file.readlines()\n",
    "for line in lines:\n",
    "    line = line.strip()\n",
    "    if line.startswith('BSO Moves'):\n",
    "        number = line.split('=')[1].strip()\n",
    "        r.append(int(number))\n",
    "        success += 1\n",
    "    total += 1\n",
    "print(f'Capture Rate: {success / total * 100}%')\n",
    "print(f'Avg Move: {np.mean(r)}')\n",
    "print(f'Move Std: {np.std(r)}')\n",
    "plt.figure(figsize=(10, 6))\n",
    "plt.hist(r, bins=8, alpha=0.6, color='green', label='BSO Move', edgecolor='black')\n",
    "plt.xlabel(\"Moves\")\n",
    "plt.ylabel(\"Count\")\n",
    "plt.legend()"
   ]
  }
 ],
 "metadata": {
  "kernelspec": {
   "display_name": "rbso",
   "language": "python",
   "name": "python3"
  },
  "language_info": {
   "codemirror_mode": {
    "name": "ipython",
    "version": 3
   },
   "file_extension": ".py",
   "mimetype": "text/x-python",
   "name": "python",
   "nbconvert_exporter": "python",
   "pygments_lexer": "ipython3",
   "version": "3.13.2"
  }
 },
 "nbformat": 4,
 "nbformat_minor": 2
}
