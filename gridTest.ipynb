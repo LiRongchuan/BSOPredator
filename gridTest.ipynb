{
 "cells": [
  {
   "cell_type": "markdown",
   "metadata": {},
   "source": [
    "# Cooperative Coevolution of Predator Robots"
   ]
  },
  {
   "cell_type": "code",
   "execution_count": 2,
   "metadata": {},
   "outputs": [],
   "source": [
    "import os\n",
    "import time\n",
    "import numpy as np\n",
    "import matplotlib.pyplot as plt\n",
    "from optim.greedy.greedy import greedy\n",
    "from prey.prey import *\n",
    "from visual.visual import Plot"
   ]
  },
  {
   "cell_type": "markdown",
   "metadata": {},
   "source": [
    "## Define Testing Grid"
   ]
  },
  {
   "cell_type": "code",
   "execution_count": 2,
   "metadata": {},
   "outputs": [],
   "source": [
    "grid = 30\n",
    "Ns = 8\n",
    "Np = 1\n",
    "n_prey = 3\n",
    "prey_logic = smartLinear\n",
    "predator_logic = greedy"
   ]
  },
  {
   "cell_type": "markdown",
   "metadata": {},
   "source": [
    "## Iteration"
   ]
  },
  {
   "cell_type": "code",
   "execution_count": 3,
   "metadata": {},
   "outputs": [
    {
     "name": "stdout",
     "output_type": "stream",
     "text": [
      "All preys caputured with 25 steps\n"
     ]
    }
   ],
   "source": [
    "# Define population\n",
    "p_robots = np.random.randint(0, grid, (Ns, Np, 2))\n",
    "preys = np.random.randint(0, grid, (n_prey, 2))\n",
    "captured = np.zeros(n_prey, dtype=np.bool)\n",
    "plotter = Plot(grid)\n",
    "\n",
    "T = 100\n",
    "for t in range(T):\n",
    "    # Prey move\n",
    "    preys_copy = preys.copy()\n",
    "    for p in range(len(preys)):\n",
    "        target = prey_logic(p_robots[:, 0], preys_copy, p, grid)\n",
    "        if target is not None:\n",
    "            preys[p] = target\n",
    "        else:\n",
    "            captured[p] = True\n",
    "    # Delete captured preys\n",
    "    preys = preys[~captured]\n",
    "    captured = captured[~captured]\n",
    "    if not len(captured):\n",
    "        break\n",
    "    # Robots move\n",
    "    predator_logic(p_robots, preys, grid)\n",
    "    plotter.update(p_robots, preys)\n",
    "    \n",
    "# Save result\n",
    "if not len(captured):\n",
    "    print(f'All preys caputured with {plotter.cnt} steps')\n",
    "else:\n",
    "    print(f'Failed to capture all within {plotter.cnt} steps')\n",
    "plotter.save(file='example.gif', fps=2)"
   ]
  },
  {
   "cell_type": "markdown",
   "metadata": {},
   "source": [
    "## Batch Test"
   ]
  },
  {
   "cell_type": "code",
   "execution_count": 4,
   "metadata": {},
   "outputs": [],
   "source": [
    "T = 100\n",
    "batch_size = 100\n",
    "folder = time.strftime(\"%Y-%m-%d_%H-%M-%S\", time.localtime(time.time()))\n",
    "os.makedirs(os.path.join('output', folder), exist_ok=True)\n",
    "with open('output\\\\'+folder+'\\\\record.txt', 'w', encoding='utf-8') as file:\n",
    "    file.write(f'Predators={Ns}, Grid={grid}*{grid}\\n')\n",
    "    for i in range(batch_size):\n",
    "        p_robots = np.random.randint(0, grid, (Ns, Np, 2))\n",
    "        preys = np.random.randint(0, grid, (n_prey, 2))\n",
    "        captured = np.zeros(n_prey, dtype=np.bool)\n",
    "        plotter = Plot(grid)\n",
    "        for t in range(T):\n",
    "            preys_copy = preys.copy()\n",
    "            for p in range(len(preys)):\n",
    "                target = prey_logic(p_robots[:, 0], preys_copy, p, grid)\n",
    "                if target is not None:\n",
    "                    preys[p] = target\n",
    "                else:\n",
    "                    captured[p] = True\n",
    "            preys = preys[~captured]\n",
    "            captured = captured[~captured]\n",
    "            if not len(captured):\n",
    "                break\n",
    "            predator_logic(p_robots, preys, grid)\n",
    "            plotter.update(p_robots, preys)\n",
    "        if not len(captured):\n",
    "            file.write(f'Moves={plotter.cnt}\\n')\n",
    "        else:\n",
    "            file.write(f'Failed\\n')\n",
    "        plotter.save(file=os.path.join(folder, f'test_{i}.gif'))"
   ]
  },
  {
   "cell_type": "markdown",
   "metadata": {},
   "source": [
    "## Analysis"
   ]
  },
  {
   "cell_type": "code",
   "execution_count": null,
   "metadata": {},
   "outputs": [
    {
     "name": "stdout",
     "output_type": "stream",
     "text": [
      "Capture Rate: 100.0%\n",
      "Avg Move: 18.42\n",
      "Move Std: 7.472857552502925\n",
      "Move Max: 46\n",
      "Move Min: 7\n"
     ]
    },
    {
     "data": {
      "text/plain": [
       "<matplotlib.legend.Legend at 0x14171ba5d10>"
      ]
     },
     "execution_count": 4,
     "metadata": {},
     "output_type": "execute_result"
    },
    {
     "data": {
      "image/png": "[encoded data removed]",
      "text/plain": [
       "<Figure size 1000x600 with 1 Axes>"
      ]
     },
     "metadata": {},
     "output_type": "display_data"
    }
   ],
   "source": [
    "r = []\n",
    "success = 0\n",
    "total = 0\n",
    "with open('output\\\\'+folder+'\\\\record.txt', 'r') as file:\n",
    "    lines = file.readlines()\n",
    "for line in lines:\n",
    "    line = line.strip()\n",
    "    if line.startswith('Moves'):\n",
    "        number = line.split('=')[1].strip()\n",
    "        r.append(int(number))\n",
    "        success += 1\n",
    "    total += 1\n",
    "print(f'Capture Rate: {success / (total - 1) * 100}%')\n",
    "print(f'Avg Move: {np.mean(r)}')\n",
    "print(f'Move Std: {np.std(r)}')\n",
    "print(f'Move Max: {max(r)}')\n",
    "print(f'Move Min: {min(r)}')\n",
    "plt.figure(figsize=(10, 6))\n",
    "plt.hist(r, bins=8, alpha=0.6, color='green', label='Greedy', edgecolor='black')\n",
    "plt.xlabel(\"Moves\")\n",
    "plt.ylabel(\"Count\")\n",
    "plt.legend()"
   ]
  }
 ],
 "metadata": {
  "kernelspec": {
   "display_name": "rbso",
   "language": "python",
   "name": "python3"
  },
  "language_info": {
   "codemirror_mode": {
    "name": "ipython",
    "version": 3
   },
   "file_extension": ".py",
   "mimetype": "text/x-python",
   "name": "python",
   "nbconvert_exporter": "python",
   "pygments_lexer": "ipython3",
   "version": "3.13.2"
  }
 },
 "nbformat": 4,
 "nbformat_minor": 2
}
